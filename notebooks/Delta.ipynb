{
 "cells": [
  {
   "cell_type": "code",
   "execution_count": 18,
   "id": "40226e7d-eea1-49e0-a7fa-171c6cd55134",
   "metadata": {},
   "outputs": [
    {
     "name": "stderr",
     "output_type": "stream",
     "text": [
      "25/10/02 15:50:23 WARN SparkSession: Using an existing Spark session; only runtime SQL configurations will take effect.\n"
     ]
    },
    {
     "name": "stdout",
     "output_type": "stream",
     "text": [
      "🗑 Tabela 'carro_delta' removida do catálogo (se existia).\n",
      "🗑 Tabela 'proprietario_delta' removida do catálogo (se existia).\n",
      "⚠️ Pasta da tabela 'carro_delta' não existe. Pulando...\n",
      "⚠️ Pasta da tabela 'proprietario_delta' não existe. Pulando...\n"
     ]
    },
    {
     "name": "stderr",
     "output_type": "stream",
     "text": [
      "25/10/02 15:50:27 WARN SparkStringUtils: Truncated the string representation of a plan since it was too large. This behavior can be adjusted by setting 'spark.sql.debug.maxToStringFields'.\n",
      "                                                                                "
     ]
    },
    {
     "name": "stdout",
     "output_type": "stream",
     "text": [
      "✅ Ambiente Delta totalmente resetado e tabelas recriadas com dados de exemplo!\n"
     ]
    }
   ],
   "source": [
    "import shutil\n",
    "import os\n",
    "from delta import configure_spark_with_delta_pip\n",
    "from pyspark.sql import SparkSession\n",
    "\n",
    "# ---------- CONFIGURAÇÃO DO SPARK COM DELTA ----------\n",
    "builder = (\n",
    "    SparkSession.builder.appName(\"DeltaReset\")\n",
    "    .config(\"spark.sql.extensions\", \"io.delta.sql.DeltaSparkSessionExtension\")\n",
    "    .config(\"spark.sql.catalog.spark_catalog\", \"org.apache.spark.sql.delta.catalog.DeltaCatalog\")\n",
    ")\n",
    "spark = configure_spark_with_delta_pip(builder).getOrCreate()\n",
    "\n",
    "# ---------- LISTA DE TABELAS E CAMINHOS ----------\n",
    "tabelas = {\n",
    "    \"carro_delta\": \"/home/hian/delta-ice/delta-tables/carro_delta\",\n",
    "    \"proprietario_delta\": \"/home/hian/delta-ice/delta-tables/proprietario_delta\"\n",
    "}\n",
    "\n",
    "# ---------- DROPAR TABELAS DO CATÁLOGO ----------\n",
    "for nome in tabelas.keys():\n",
    "    spark.sql(f\"DROP TABLE IF EXISTS {nome}\")\n",
    "    print(f\"🗑 Tabela '{nome}' removida do catálogo (se existia).\")\n",
    "\n",
    "# ---------- APAGAR PASTAS FÍSICAS ----------\n",
    "for nome, path in tabelas.items():\n",
    "    if os.path.exists(path):\n",
    "        shutil.rmtree(path)\n",
    "        print(f\"✅ Pasta da tabela '{nome}' apagada.\")\n",
    "    else:\n",
    "        print(f\"⚠️ Pasta da tabela '{nome}' não existe. Pulando...\")\n",
    "\n",
    "# ---------- RECRIAR AS TABELAS ----------\n",
    "spark.sql(f\"\"\"\n",
    "CREATE TABLE carro_delta (\n",
    "    sk_carro INT,\n",
    "    placa STRING,\n",
    "    modelo STRING,\n",
    "    ano INT,\n",
    "    valor DOUBLE\n",
    ") USING delta\n",
    "LOCATION '{tabelas['carro_delta']}'\n",
    "\"\"\")\n",
    "\n",
    "spark.sql(f\"\"\"\n",
    "CREATE TABLE proprietario_delta (\n",
    "    sk_proprietario INT,\n",
    "    nome STRING,\n",
    "    cpf STRING\n",
    ") USING delta\n",
    "LOCATION '{tabelas['proprietario_delta']}'\n",
    "\"\"\")\n",
    "\n",
    "# ---------- INSERIR DADOS INICIAIS ----------\n",
    "spark.sql(\"\"\"\n",
    "INSERT INTO carro_delta VALUES\n",
    "(1, 'ABC1234', 'Gol', 2015, 25000),\n",
    "(2, 'XYZ9876', 'Onix', 2019, 45000)\n",
    "\"\"\")\n",
    "\n",
    "spark.sql(\"\"\"\n",
    "INSERT INTO proprietario_delta VALUES\n",
    "(1, 'João Silva', '123.456.789-00'),\n",
    "(2, 'Maria Oliveira', '987.654.321-00')\n",
    "\"\"\")\n",
    "\n",
    "print(\"✅ Ambiente Delta totalmente resetado e tabelas recriadas com dados de exemplo!\")\n"
   ]
  },
  {
   "cell_type": "code",
   "execution_count": 19,
   "id": "8958980d-9cc7-49fe-b71e-7ba59b786598",
   "metadata": {},
   "outputs": [
    {
     "name": "stderr",
     "output_type": "stream",
     "text": [
      "25/10/02 15:51:32 WARN UpdateCommand: Could not validate number of records due to missing statistics.\n",
      "                                                                                "
     ]
    },
    {
     "name": "stdout",
     "output_type": "stream",
     "text": [
      "+--------+-------+------+----+-------+\n",
      "|sk_carro|  placa|modelo| ano|  valor|\n",
      "+--------+-------+------+----+-------+\n",
      "|       2|XYZ9876|  Onix|2019|45000.0|\n",
      "|       1|ABC1234|   Gol|2015|26000.0|\n",
      "+--------+-------+------+----+-------+\n",
      "\n"
     ]
    }
   ],
   "source": [
    "# Atualiza o valor do carro com modelo 'Gol'\n",
    "spark.sql(\"\"\"\n",
    "UPDATE carro_delta\n",
    "SET valor = 26000\n",
    "WHERE modelo = 'Gol'\n",
    "\"\"\")\n",
    "\n",
    "# Verificar resultado\n",
    "spark.sql(\"SELECT * FROM carro_delta\").show()\n"
   ]
  },
  {
   "cell_type": "code",
   "execution_count": 20,
   "id": "458d3e3b-4c5d-45a0-a00d-f393ff68ad0b",
   "metadata": {},
   "outputs": [
    {
     "name": "stderr",
     "output_type": "stream",
     "text": [
      "25/10/02 15:52:41 WARN DeleteCommand: Could not validate number of records due to missing statistics.\n",
      "                                                                                "
     ]
    },
    {
     "name": "stdout",
     "output_type": "stream",
     "text": [
      "+--------+-------+------+----+-------+\n",
      "|sk_carro|  placa|modelo| ano|  valor|\n",
      "+--------+-------+------+----+-------+\n",
      "|       1|ABC1234|   Gol|2015|26000.0|\n",
      "+--------+-------+------+----+-------+\n",
      "\n"
     ]
    }
   ],
   "source": [
    "# Deleta o carro com modelo 'Onix'\n",
    "spark.sql(\"\"\"\n",
    "DELETE FROM carro_delta\n",
    "WHERE modelo = 'Onix'\n",
    "\"\"\")\n",
    "\n",
    "# Verificar resultado\n",
    "spark.sql(\"SELECT * FROM carro_delta\").show()\n"
   ]
  },
  {
   "cell_type": "code",
   "execution_count": null,
   "id": "e2384910-b1f2-4e38-a397-6f1230c2ad28",
   "metadata": {},
   "outputs": [],
   "source": []
  }
 ],
 "metadata": {
  "kernelspec": {
   "display_name": "Python 3 (ipykernel)",
   "language": "python",
   "name": "python3"
  },
  "language_info": {
   "codemirror_mode": {
    "name": "ipython",
    "version": 3
   },
   "file_extension": ".py",
   "mimetype": "text/x-python",
   "name": "python",
   "nbconvert_exporter": "python",
   "pygments_lexer": "ipython3",
   "version": "3.11.13"
  }
 },
 "nbformat": 4,
 "nbformat_minor": 5
}
